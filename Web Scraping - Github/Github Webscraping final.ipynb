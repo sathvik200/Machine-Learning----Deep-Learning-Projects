{
 "cells": [
  {
   "cell_type": "markdown",
   "metadata": {},
   "source": [
    "<H1>Scraping Top Repositories for Topics on GitHub</H1>\n",
    "<H2>TO-DO (Intro):</H2>\n",
    "This project is about extracting data from a website, which is commonly known as web scraping.<br>\n",
    "<H2>What is Github?</H3>\n",
    "Github is an open open source tool to share and collaborate on different projects with each other.\n",
    "<H2>What are the tools ued for this project?</H2>\n",
    "- requests\n",
    "- Beautiful Soup\n",
    "- Pandas\n",
    "\n",
    "<H2>Steps followed for this project</H2>\n",
    "We are goint to scrape \"https://github.com/topics\" for the topics.<br>\n",
    "From the above mentioned website, we scrape for topic name, description about the topic, and a hyperlink for that topic<br>\n",
    "We scrape for username, repositories and stars of top 80 repositories in each topics."
   ]
  },
  {
   "cell_type": "code",
   "execution_count": 52,
   "metadata": {},
   "outputs": [],
   "source": [
    "#Importing the tools which will be used in this project.\n",
    "import requests\n",
    "from bs4 import BeautifulSoup\n",
    "import pandas as pd"
   ]
  },
  {
   "cell_type": "markdown",
   "metadata": {},
   "source": [
    "From personal observation, there are about 6 pages of topics in github<br>\n",
    "The below line of code is done so that we get the urls for each page."
   ]
  },
  {
   "cell_type": "code",
   "execution_count": 53,
   "metadata": {},
   "outputs": [],
   "source": [
    "base_url = \"https://github.com/topics\"\n",
    "all_topics_url = [\"{}?page={}\".format(base_url, i) for i in range(1, 7)]"
   ]
  },
  {
   "cell_type": "markdown",
   "metadata": {},
   "source": [
    "<H2>Scrape the list of topics from Github</H2>\n",
    "\n",
    "use requests to downlaod the page<br>\n",
    "user BS4 to parse and extract information<br>\n",
    "convert to a Pandas dataframe<br><br><br>\n",
    "<H3>Let's write a function to get the topic name, topic description and topic url.</H3>"
   ]
  },
  {
   "cell_type": "code",
   "execution_count": 54,
   "metadata": {},
   "outputs": [],
   "source": [
    "topic_titles = []\n",
    "topic_description = []\n",
    "topic_url = []\n",
    "def get_topics(url):\n",
    "    response = requests.get(url)\n",
    "    soup = BeautifulSoup(response.text, 'html.parser')\n",
    "    topic_title_tags = soup.find_all('p', {'class': \"f3 lh-condensed mb-0 mt-1 Link--primary\"})\n",
    "    topic_description_tags = soup.find_all('p', {'class': \"f5 color-fg-muted mb-0 mt-1\"})\n",
    "    topic_link_tags = soup.find_all('a', class_ = 'no-underline flex-1 d-flex flex-column')\n",
    "    for tag in topic_title_tags:\n",
    "        topic_titles.append(tag.text)\n",
    "    for tag in topic_description_tags:\n",
    "        topic_description.append(tag.text.strip())\n",
    "    for tag in topic_link_tags:\n",
    "        topic_url.append(\"https://github.com\"+tag['href'])\n",
    "    "
   ]
  },
  {
   "cell_type": "markdown",
   "metadata": {},
   "source": [
    "<H3>In the below code, we have used a for loop to run all the pages url through the function written above.</H3>"
   ]
  },
  {
   "cell_type": "code",
   "execution_count": 55,
   "metadata": {},
   "outputs": [],
   "source": [
    "for url in all_topics_url:\n",
    "    get_topics(url)"
   ]
  },
  {
   "cell_type": "markdown",
   "metadata": {},
   "source": [
    "<H3>Here, the scraped data is turned into tabular data(DataFrame)</H3>"
   ]
  },
  {
   "cell_type": "code",
   "execution_count": null,
   "metadata": {},
   "outputs": [],
   "source": [
    "dict = {\"Title\": topic_titles, \"Description\": topic_description, \"URL\": topic_url}\n",
    "df = pd.DataFrame(dict)"
   ]
  },
  {
   "cell_type": "code",
   "execution_count": 56,
   "metadata": {},
   "outputs": [
    {
     "data": {
      "text/html": [
       "<div>\n",
       "<style scoped>\n",
       "    .dataframe tbody tr th:only-of-type {\n",
       "        vertical-align: middle;\n",
       "    }\n",
       "\n",
       "    .dataframe tbody tr th {\n",
       "        vertical-align: top;\n",
       "    }\n",
       "\n",
       "    .dataframe thead th {\n",
       "        text-align: right;\n",
       "    }\n",
       "</style>\n",
       "<table border=\"1\" class=\"dataframe\">\n",
       "  <thead>\n",
       "    <tr style=\"text-align: right;\">\n",
       "      <th></th>\n",
       "      <th>Title</th>\n",
       "      <th>Description</th>\n",
       "      <th>URL</th>\n",
       "    </tr>\n",
       "  </thead>\n",
       "  <tbody>\n",
       "    <tr>\n",
       "      <th>0</th>\n",
       "      <td>3D</td>\n",
       "      <td>3D refers to the use of three-dimensional grap...</td>\n",
       "      <td>https://github.com/topics/3d</td>\n",
       "    </tr>\n",
       "    <tr>\n",
       "      <th>1</th>\n",
       "      <td>Ajax</td>\n",
       "      <td>Ajax is a technique for creating interactive w...</td>\n",
       "      <td>https://github.com/topics/ajax</td>\n",
       "    </tr>\n",
       "    <tr>\n",
       "      <th>2</th>\n",
       "      <td>Algorithm</td>\n",
       "      <td>Algorithms are self-contained sequences that c...</td>\n",
       "      <td>https://github.com/topics/algorithm</td>\n",
       "    </tr>\n",
       "    <tr>\n",
       "      <th>3</th>\n",
       "      <td>Amp</td>\n",
       "      <td>Amp is a non-blocking concurrency library for ...</td>\n",
       "      <td>https://github.com/topics/amphp</td>\n",
       "    </tr>\n",
       "    <tr>\n",
       "      <th>4</th>\n",
       "      <td>Android</td>\n",
       "      <td>Android is an operating system built by Google...</td>\n",
       "      <td>https://github.com/topics/android</td>\n",
       "    </tr>\n",
       "  </tbody>\n",
       "</table>\n",
       "</div>"
      ],
      "text/plain": [
       "       Title                                        Description  \\\n",
       "0         3D  3D refers to the use of three-dimensional grap...   \n",
       "1       Ajax  Ajax is a technique for creating interactive w...   \n",
       "2  Algorithm  Algorithms are self-contained sequences that c...   \n",
       "3        Amp  Amp is a non-blocking concurrency library for ...   \n",
       "4    Android  Android is an operating system built by Google...   \n",
       "\n",
       "                                   URL  \n",
       "0         https://github.com/topics/3d  \n",
       "1       https://github.com/topics/ajax  \n",
       "2  https://github.com/topics/algorithm  \n",
       "3      https://github.com/topics/amphp  \n",
       "4    https://github.com/topics/android  "
      ]
     },
     "execution_count": 56,
     "metadata": {},
     "output_type": "execute_result"
    }
   ],
   "source": [
    "df.head()"
   ]
  },
  {
   "cell_type": "code",
   "execution_count": 57,
   "metadata": {},
   "outputs": [],
   "source": [
    "df.to_csv('Github Topics.csv')"
   ]
  },
  {
   "cell_type": "markdown",
   "metadata": {},
   "source": [
    "<H2>Scrape the list of top 80 repositories from each topic in Github</H2>\n",
    "\n",
    "use requests to downlaod the page<br>\n",
    "user BS4 to parse and extract information<br>\n",
    "convert to a Pandas dataframe<br><br><br>\n",
    "<H3>Let's write a function to get the Author Name, Repository Name, Total number of stars given.</H3>"
   ]
  },
  {
   "cell_type": "code",
   "execution_count": 58,
   "metadata": {},
   "outputs": [],
   "source": [
    "def get_author_project(url,title):\n",
    "    response = requests.get(url)\n",
    "    soup = BeautifulSoup(response.text, 'html.parser')\n",
    "    H1_tags = soup.find_all('h3', class_ = 'f3 color-fg-muted text-normal lh-condensed')\n",
    "    A_tags = []\n",
    "    for j in range(len(H1_tags)):\n",
    "        A_tags = H1_tags[j].find_all('a')\n",
    "        Author.append(A_tags[0].text.strip())\n",
    "        Project.append(A_tags[1].text.strip())\n",
    "    stars = soup.find_all('span', class_ = 'Counter js-social-count')\n",
    "    for star in range(len(stars)):\n",
    "        i = stars[star].text\n",
    "        if i[-1] == 'k':\n",
    "            Stars.append(int(float(stars[star].text[:-1])*1000))\n",
    "        else:\n",
    "            Stars.append(int(i))\n",
    "    for k in range(0,len(H1_tags)):\n",
    "        Title.append(title)"
   ]
  },
  {
   "cell_type": "markdown",
   "metadata": {},
   "source": [
    "<H3>In the below code, we have used a for loop to run all the pages url through the function written above.<br>But a single page has 20 repositories, therefore \"Project_URL\" variable is introduced to store each topics repositories pages link</H3>"
   ]
  },
  {
   "cell_type": "code",
   "execution_count": 59,
   "metadata": {},
   "outputs": [],
   "source": [
    "Author = []\n",
    "Project = []\n",
    "Stars = []\n",
    "Title = []\n",
    "for i in range(len(df)):\n",
    "    Project_URL = [\"{}?page={}\".format(df['URL'][i], j) for j in range(1, 5)]\n",
    "    for k in Project_URL:    \n",
    "        get_author_project(k, df['Title'][i])"
   ]
  },
  {
   "cell_type": "markdown",
   "metadata": {},
   "source": [
    "<H3>Converting into DataFrame"
   ]
  },
  {
   "cell_type": "code",
   "execution_count": 60,
   "metadata": {},
   "outputs": [],
   "source": [
    "Dict1 = {\"Title\": Title, \"Projects\": Project, \"Authors\": Author, \"Stars\": Stars}"
   ]
  },
  {
   "cell_type": "code",
   "execution_count": 61,
   "metadata": {},
   "outputs": [],
   "source": [
    "Project_stars = pd.DataFrame(Dict1)"
   ]
  },
  {
   "cell_type": "code",
   "execution_count": 62,
   "metadata": {},
   "outputs": [
    {
     "data": {
      "text/html": [
       "<div>\n",
       "<style scoped>\n",
       "    .dataframe tbody tr th:only-of-type {\n",
       "        vertical-align: middle;\n",
       "    }\n",
       "\n",
       "    .dataframe tbody tr th {\n",
       "        vertical-align: top;\n",
       "    }\n",
       "\n",
       "    .dataframe thead th {\n",
       "        text-align: right;\n",
       "    }\n",
       "</style>\n",
       "<table border=\"1\" class=\"dataframe\">\n",
       "  <thead>\n",
       "    <tr style=\"text-align: right;\">\n",
       "      <th></th>\n",
       "      <th>Title</th>\n",
       "      <th>Projects</th>\n",
       "      <th>Authors</th>\n",
       "      <th>Stars</th>\n",
       "    </tr>\n",
       "  </thead>\n",
       "  <tbody>\n",
       "    <tr>\n",
       "      <th>13425</th>\n",
       "      <td>Virtual reality</td>\n",
       "      <td>patches</td>\n",
       "      <td>vizorvr</td>\n",
       "      <td>202</td>\n",
       "    </tr>\n",
       "    <tr>\n",
       "      <th>13426</th>\n",
       "      <td>Virtual reality</td>\n",
       "      <td>XR-Stereoscopic-Viewer</td>\n",
       "      <td>Eis4TY</td>\n",
       "      <td>196</td>\n",
       "    </tr>\n",
       "    <tr>\n",
       "      <th>13427</th>\n",
       "      <td>Virtual reality</td>\n",
       "      <td>guri-vr</td>\n",
       "      <td>OpenNewsLabs</td>\n",
       "      <td>193</td>\n",
       "    </tr>\n",
       "    <tr>\n",
       "      <th>13428</th>\n",
       "      <td>Virtual reality</td>\n",
       "      <td>webxr-input-profiles</td>\n",
       "      <td>immersive-web</td>\n",
       "      <td>189</td>\n",
       "    </tr>\n",
       "    <tr>\n",
       "      <th>13429</th>\n",
       "      <td>Virtual reality</td>\n",
       "      <td>covise</td>\n",
       "      <td>hlrs-vis</td>\n",
       "      <td>187</td>\n",
       "    </tr>\n",
       "  </tbody>\n",
       "</table>\n",
       "</div>"
      ],
      "text/plain": [
       "                 Title                Projects        Authors  Stars\n",
       "13425  Virtual reality                 patches        vizorvr    202\n",
       "13426  Virtual reality  XR-Stereoscopic-Viewer         Eis4TY    196\n",
       "13427  Virtual reality                 guri-vr   OpenNewsLabs    193\n",
       "13428  Virtual reality    webxr-input-profiles  immersive-web    189\n",
       "13429  Virtual reality                  covise       hlrs-vis    187"
      ]
     },
     "execution_count": 62,
     "metadata": {},
     "output_type": "execute_result"
    }
   ],
   "source": [
    "Project_stars.tail()"
   ]
  },
  {
   "cell_type": "code",
   "execution_count": 64,
   "metadata": {},
   "outputs": [],
   "source": [
    "Project_stars.to_csv(\"Project with Stars.csv\")"
   ]
  },
  {
   "cell_type": "markdown",
   "metadata": {},
   "source": [
    "<H3>Summary of what I did</H3>\n",
    "In short, I scraped github for 168 different topics, in which top 80 repositories of each topic were taken and converted into a DataFrame.\n",
    "<H3>References</H3>\n",
    "https://beautiful-soup-4.readthedocs.io/en/latest/<br>\n",
    "https://requests.readthedocs.io/en/latest/<br>\n",
    "https://pandas.pydata.org/docs/index.html"
   ]
  }
 ],
 "metadata": {
  "kernelspec": {
   "display_name": "Python 3",
   "language": "python",
   "name": "python3"
  },
  "language_info": {
   "codemirror_mode": {
    "name": "ipython",
    "version": 3
   },
   "file_extension": ".py",
   "mimetype": "text/x-python",
   "name": "python",
   "nbconvert_exporter": "python",
   "pygments_lexer": "ipython3",
   "version": "3.12.4"
  }
 },
 "nbformat": 4,
 "nbformat_minor": 2
}
